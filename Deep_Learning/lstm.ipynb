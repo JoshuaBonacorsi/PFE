{
 "cells": [
  {
   "cell_type": "code",
   "execution_count": 94,
   "metadata": {},
   "outputs": [],
   "source": [
    "import numpy as np \n",
    "import pandas as pd\n",
    "\n",
    "from sklearn.preprocessing import StandardScaler\n",
    "\n",
    "import tensorflow as tf\n",
    "from tensorflow.keras import Sequential\n",
    "from tensorflow.keras.callbacks import EarlyStopping\n",
    "from tensorflow.keras.layers import LSTM, Dense, Dropout"
   ]
  },
  {
   "cell_type": "code",
   "execution_count": 95,
   "metadata": {},
   "outputs": [
    {
     "data": {
      "text/html": [
       "<div>\n",
       "<style scoped>\n",
       "    .dataframe tbody tr th:only-of-type {\n",
       "        vertical-align: middle;\n",
       "    }\n",
       "\n",
       "    .dataframe tbody tr th {\n",
       "        vertical-align: top;\n",
       "    }\n",
       "\n",
       "    .dataframe thead th {\n",
       "        text-align: right;\n",
       "    }\n",
       "</style>\n",
       "<table border=\"1\" class=\"dataframe\">\n",
       "  <thead>\n",
       "    <tr style=\"text-align: right;\">\n",
       "      <th></th>\n",
       "      <th>value</th>\n",
       "    </tr>\n",
       "    <tr>\n",
       "      <th>timestamp</th>\n",
       "      <th></th>\n",
       "    </tr>\n",
       "  </thead>\n",
       "  <tbody>\n",
       "    <tr>\n",
       "      <th>2014-07-01 00:00:00</th>\n",
       "      <td>10844</td>\n",
       "    </tr>\n",
       "    <tr>\n",
       "      <th>2014-07-01 00:30:00</th>\n",
       "      <td>8127</td>\n",
       "    </tr>\n",
       "    <tr>\n",
       "      <th>2014-07-01 01:00:00</th>\n",
       "      <td>6210</td>\n",
       "    </tr>\n",
       "    <tr>\n",
       "      <th>2014-07-01 01:30:00</th>\n",
       "      <td>4656</td>\n",
       "    </tr>\n",
       "    <tr>\n",
       "      <th>2014-07-01 02:00:00</th>\n",
       "      <td>3820</td>\n",
       "    </tr>\n",
       "  </tbody>\n",
       "</table>\n",
       "</div>"
      ],
      "text/plain": [
       "                     value\n",
       "timestamp                 \n",
       "2014-07-01 00:00:00  10844\n",
       "2014-07-01 00:30:00   8127\n",
       "2014-07-01 01:00:00   6210\n",
       "2014-07-01 01:30:00   4656\n",
       "2014-07-01 02:00:00   3820"
      ]
     },
     "execution_count": 95,
     "metadata": {},
     "output_type": "execute_result"
    }
   ],
   "source": [
    "url = '../data/default_nyc_taxi.csv'\n",
    "data = pd.read_csv(url, parse_dates=['timestamp'], index_col='timestamp')\n",
    "\n",
    "data = data[[\"value\"]]\n",
    "data.head()"
   ]
  },
  {
   "cell_type": "code",
   "execution_count": 96,
   "metadata": {},
   "outputs": [
    {
     "name": "stdout",
     "output_type": "stream",
     "text": [
      "DatetimeIndex(['2014-07-01 00:00:00', '2014-07-01 00:30:00',\n",
      "               '2014-07-01 01:00:00', '2014-07-01 01:30:00',\n",
      "               '2014-07-01 02:00:00', '2014-07-01 02:30:00',\n",
      "               '2014-07-01 03:00:00', '2014-07-01 03:30:00',\n",
      "               '2014-07-01 04:00:00', '2014-07-01 04:30:00',\n",
      "               '2014-07-01 05:00:00', '2014-07-01 05:30:00',\n",
      "               '2014-07-01 06:00:00', '2014-07-01 06:30:00',\n",
      "               '2014-07-01 07:00:00', '2014-07-01 07:30:00',\n",
      "               '2014-07-01 08:00:00', '2014-07-01 08:30:00',\n",
      "               '2014-07-01 09:00:00', '2014-07-01 09:30:00',\n",
      "               '2014-07-01 10:00:00', '2014-07-01 10:30:00',\n",
      "               '2014-07-01 11:00:00', '2014-07-01 11:30:00',\n",
      "               '2014-07-01 12:00:00', '2014-07-01 12:30:00',\n",
      "               '2014-07-01 13:00:00', '2014-07-01 13:30:00',\n",
      "               '2014-07-01 14:00:00', '2014-07-01 14:30:00',\n",
      "               '2014-07-01 15:00:00', '2014-07-01 15:30:00',\n",
      "               '2014-07-01 16:00:00', '2014-07-01 16:30:00',\n",
      "               '2014-07-01 17:00:00', '2014-07-01 17:30:00',\n",
      "               '2014-07-01 18:00:00', '2014-07-01 18:30:00',\n",
      "               '2014-07-01 19:00:00', '2014-07-01 19:30:00',\n",
      "               '2014-07-01 20:00:00', '2014-07-01 20:30:00',\n",
      "               '2014-07-01 21:00:00', '2014-07-01 21:30:00',\n",
      "               '2014-07-01 22:00:00', '2014-07-01 22:30:00',\n",
      "               '2014-07-01 23:00:00', '2014-07-01 23:30:00'],\n",
      "              dtype='datetime64[ns]', name='timestamp', freq=None)\n"
     ]
    }
   ],
   "source": [
    "period = 48\n",
    "print(data.index[:period])"
   ]
  },
  {
   "cell_type": "code",
   "execution_count": 97,
   "metadata": {},
   "outputs": [
    {
     "name": "stdout",
     "output_type": "stream",
     "text": [
      "From  2014-07-01 00:00:00  to  2015-01-31 23:30:00\n"
     ]
    }
   ],
   "source": [
    "print('From  ' + str(np.min(data.index)) + '  to  ' +str(np.max(data.index)))"
   ]
  },
  {
   "cell_type": "code",
   "execution_count": 98,
   "metadata": {},
   "outputs": [
    {
     "name": "stdout",
     "output_type": "stream",
     "text": [
      "Data size: 10320 \n",
      "Number of data per day: 48 \n",
      "Number of days: 215\n"
     ]
    }
   ],
   "source": [
    "print('Data size: %d \\nNumber of data per day: %d \\nNumber of days: %d' %(data.shape[0], period, data.shape[0] / period))"
   ]
  },
  {
   "cell_type": "code",
   "execution_count": 99,
   "metadata": {},
   "outputs": [
    {
     "name": "stdout",
     "output_type": "stream",
     "text": [
      "Missing value:  0\n"
     ]
    }
   ],
   "source": [
    "print('Missing value: ', data.isnull().to_numpy().sum())"
   ]
  },
  {
   "cell_type": "code",
   "execution_count": 100,
   "metadata": {},
   "outputs": [
    {
     "name": "stdout",
     "output_type": "stream",
     "text": [
      "Train size:  0.55\n",
      "\n",
      "\n",
      "TRAIN SET:  from  2014-07-01 00:00:00  to  2014-10-27 05:30:00\n",
      "Data size:  5676\n",
      "Number of days:  118\n",
      "\n",
      "\n",
      "TEST SET:  from  2014-10-27 06:00:00  to  2015-01-31 23:30:00\n",
      "Data size:  4644\n",
      "Number of days:  96\n"
     ]
    }
   ],
   "source": [
    "ratio = 0.55\n",
    "train_size = int(data.shape[0] * ratio)\n",
    "train = data[:train_size]\n",
    "test = data[train_size:]\n",
    "\n",
    "dates_train = data.index[:train_size]\n",
    "dates_test = data.index[train_size:]\n",
    "\n",
    "print('Train size: ', ratio)\n",
    "\n",
    "print('\\n\\nTRAIN SET:  from  ' + str(np.min(dates_train)) + '  to  ' +str(np.max(dates_train)))\n",
    "print('Data size: ', train.shape[0])\n",
    "print('Number of days: ', int(train.shape[0] / period))\n",
    "\n",
    "\n",
    "print('\\n\\nTEST SET:  from  ' + str(np.min(dates_test)) + '  to  ' +str(np.max(dates_test)))\n",
    "print('Data size: ', test.shape[0])\n",
    "print('Number of days: ', int(test.shape[0] / period))"
   ]
  },
  {
   "cell_type": "code",
   "execution_count": 101,
   "metadata": {},
   "outputs": [],
   "source": [
    "scaler = StandardScaler()\n",
    "scaler = scaler.fit(train.values.reshape(-1, 1))\n",
    "\n",
    "train = scaler.transform(train.values.reshape(-1, 1))\n",
    "test = scaler.transform(test.values.reshape(-1, 1))"
   ]
  },
  {
   "cell_type": "code",
   "execution_count": 102,
   "metadata": {},
   "outputs": [],
   "source": [
    "def split_into_windows(X, length):\n",
    "    windows = []\n",
    "    for start in range(0, len(X) - length + 1):\n",
    "        windows.append(X[start: start + length])\n",
    "    return np.array(windows)"
   ]
  },
  {
   "cell_type": "code",
   "execution_count": 103,
   "metadata": {},
   "outputs": [],
   "source": [
    "window_length = 48\n",
    "\n",
    "X_train = split_into_windows(train, window_length)\n",
    "X_test = split_into_windows(test, window_length)\n",
    "\n",
    "_, input_length, input_dim = X_train.shape"
   ]
  },
  {
   "cell_type": "code",
   "execution_count": 104,
   "metadata": {},
   "outputs": [
    {
     "data": {
      "text/plain": [
       "(5629, 48, 1)"
      ]
     },
     "execution_count": 104,
     "metadata": {},
     "output_type": "execute_result"
    }
   ],
   "source": [
    "X_train.shape"
   ]
  },
  {
   "cell_type": "code",
   "execution_count": 105,
   "metadata": {},
   "outputs": [
    {
     "data": {
      "text/plain": [
       "(48, 1)"
      ]
     },
     "execution_count": 105,
     "metadata": {},
     "output_type": "execute_result"
    }
   ],
   "source": [
    "X_train[0].shape"
   ]
  },
  {
   "cell_type": "code",
   "execution_count": 106,
   "metadata": {},
   "outputs": [
    {
     "name": "stdout",
     "output_type": "stream",
     "text": [
      "Model: \"sequential_3\"\n",
      "_________________________________________________________________\n",
      " Layer (type)                Output Shape              Param #   \n",
      "=================================================================\n",
      " lstm_12 (LSTM)              (None, 48, 24)            2496      \n",
      "                                                                 \n",
      " dropout_12 (Dropout)        (None, 48, 24)            0         \n",
      "                                                                 \n",
      " lstm_13 (LSTM)              (None, 48, 12)            1776      \n",
      "                                                                 \n",
      " dropout_13 (Dropout)        (None, 48, 12)            0         \n",
      "                                                                 \n",
      " lstm_14 (LSTM)              (None, 48, 12)            1200      \n",
      "                                                                 \n",
      " dropout_14 (Dropout)        (None, 48, 12)            0         \n",
      "                                                                 \n",
      " lstm_15 (LSTM)              (None, 48, 24)            3552      \n",
      "                                                                 \n",
      " dropout_15 (Dropout)        (None, 48, 24)            0         \n",
      "                                                                 \n",
      " dense_3 (Dense)             (None, 48, 1)             25        \n",
      "                                                                 \n",
      "=================================================================\n",
      "Total params: 9,049\n",
      "Trainable params: 9,049\n",
      "Non-trainable params: 0\n",
      "_________________________________________________________________\n"
     ]
    }
   ],
   "source": [
    "# params\n",
    "dim_hidden1 = 24 # 1/2 the length of one window\n",
    "dim_hidden2 = 12 # 1/4 the length of one window\n",
    "\n",
    "\n",
    "# model\n",
    "model = Sequential()\n",
    "model.add(LSTM(units=dim_hidden1, activation='relu', input_shape=(input_length, input_dim), return_sequences=True))\n",
    "model.add(Dropout(0.2))\n",
    "model.add(LSTM(units=dim_hidden2, activation='relu', return_sequences=True))\n",
    "model.add(Dropout(0.2))\n",
    "model.add(LSTM(units=dim_hidden2, activation='relu', return_sequences=True))\n",
    "model.add(Dropout(0.2))\n",
    "model.add(LSTM(units=dim_hidden1, activation='relu', return_sequences=True))\n",
    "model.add(Dropout(0.2))\n",
    "model.add(Dense(1))\n",
    "\n",
    "# summary\n",
    "model.compile(loss='mse', optimizer='adam')\n",
    "model.summary()"
   ]
  },
  {
   "cell_type": "code",
   "execution_count": 107,
   "metadata": {},
   "outputs": [
    {
     "name": "stdout",
     "output_type": "stream",
     "text": [
      "Epoch 1/50\n"
     ]
    },
    {
     "name": "stdout",
     "output_type": "stream",
     "text": [
      "106/106 [==============================] - 7s 33ms/step - loss: 1.4967 - val_loss: 1.1093\n",
      "Epoch 2/50\n",
      "106/106 [==============================] - 3s 30ms/step - loss: 0.8124 - val_loss: 0.5810\n",
      "Epoch 3/50\n",
      "106/106 [==============================] - 3s 30ms/step - loss: 0.4322 - val_loss: 0.3273\n",
      "Epoch 4/50\n",
      "106/106 [==============================] - 3s 29ms/step - loss: 0.3147 - val_loss: 0.2446\n",
      "Epoch 5/50\n",
      "106/106 [==============================] - 3s 29ms/step - loss: 0.2480 - val_loss: 0.1816\n",
      "Epoch 6/50\n",
      "106/106 [==============================] - 3s 30ms/step - loss: 0.2071 - val_loss: 0.1418\n",
      "Epoch 7/50\n",
      "106/106 [==============================] - 3s 29ms/step - loss: 0.1750 - val_loss: 0.1105\n",
      "Epoch 8/50\n",
      "106/106 [==============================] - 3s 29ms/step - loss: 0.1515 - val_loss: 0.0891\n",
      "Epoch 9/50\n",
      "106/106 [==============================] - 3s 31ms/step - loss: 0.1340 - val_loss: 0.0769\n",
      "Epoch 10/50\n",
      "106/106 [==============================] - 4s 34ms/step - loss: 0.1204 - val_loss: 0.0696\n",
      "Epoch 11/50\n",
      "106/106 [==============================] - 3s 29ms/step - loss: 0.1095 - val_loss: 0.0606\n",
      "Epoch 12/50\n",
      "106/106 [==============================] - 3s 29ms/step - loss: 0.1014 - val_loss: 0.0516\n",
      "Epoch 13/50\n",
      "106/106 [==============================] - 3s 29ms/step - loss: 0.0958 - val_loss: 0.0441\n",
      "Epoch 14/50\n",
      "106/106 [==============================] - 3s 29ms/step - loss: 0.0897 - val_loss: 0.0426\n",
      "Epoch 15/50\n",
      "106/106 [==============================] - 3s 30ms/step - loss: 0.0854 - val_loss: 0.0392\n",
      "Epoch 16/50\n",
      "106/106 [==============================] - 3s 29ms/step - loss: 0.0815 - val_loss: 0.0367\n",
      "Epoch 17/50\n",
      "106/106 [==============================] - 3s 29ms/step - loss: 0.0791 - val_loss: 0.0344\n",
      "Epoch 18/50\n",
      "106/106 [==============================] - 3s 29ms/step - loss: 0.0768 - val_loss: 0.0333\n",
      "Epoch 19/50\n",
      "106/106 [==============================] - 3s 29ms/step - loss: 0.0736 - val_loss: 0.0310\n",
      "Epoch 20/50\n",
      "106/106 [==============================] - 3s 30ms/step - loss: 0.0722 - val_loss: 0.0300\n",
      "Epoch 21/50\n",
      "106/106 [==============================] - 3s 29ms/step - loss: 0.0697 - val_loss: 0.0298\n",
      "Epoch 22/50\n",
      "106/106 [==============================] - 3s 29ms/step - loss: 0.0684 - val_loss: 0.0319\n",
      "Epoch 23/50\n",
      "106/106 [==============================] - 3s 29ms/step - loss: 0.0663 - val_loss: 0.0310\n",
      "Epoch 24/50\n",
      "106/106 [==============================] - 3s 29ms/step - loss: 0.0649 - val_loss: 0.0284\n",
      "Epoch 25/50\n",
      "106/106 [==============================] - 3s 29ms/step - loss: 0.0637 - val_loss: 0.0237\n",
      "Epoch 26/50\n",
      "106/106 [==============================] - 3s 29ms/step - loss: 0.0618 - val_loss: 0.0276\n",
      "Epoch 27/50\n",
      "106/106 [==============================] - 3s 29ms/step - loss: 0.0611 - val_loss: 0.0265\n",
      "Epoch 28/50\n",
      "106/106 [==============================] - 3s 29ms/step - loss: 0.0594 - val_loss: 0.0264\n",
      "Epoch 29/50\n",
      "106/106 [==============================] - 3s 30ms/step - loss: 0.0590 - val_loss: 0.0229\n",
      "Epoch 30/50\n",
      "106/106 [==============================] - 3s 30ms/step - loss: 0.0580 - val_loss: 0.0246\n",
      "Epoch 31/50\n",
      "106/106 [==============================] - 3s 30ms/step - loss: 0.0565 - val_loss: 0.0241\n",
      "Epoch 32/50\n",
      "106/106 [==============================] - 3s 30ms/step - loss: 0.0557 - val_loss: 0.0229\n",
      "Epoch 33/50\n",
      "106/106 [==============================] - 3s 30ms/step - loss: 0.0546 - val_loss: 0.0243\n",
      "Epoch 34/50\n",
      "106/106 [==============================] - 3s 30ms/step - loss: 0.0534 - val_loss: 0.0243\n",
      "Epoch 35/50\n",
      "106/106 [==============================] - 3s 30ms/step - loss: 0.0524 - val_loss: 0.0239\n",
      "Epoch 36/50\n",
      "106/106 [==============================] - 3s 30ms/step - loss: 0.0519 - val_loss: 0.0204\n",
      "Epoch 37/50\n",
      "106/106 [==============================] - 3s 30ms/step - loss: 0.0514 - val_loss: 0.0223\n",
      "Epoch 38/50\n",
      "106/106 [==============================] - 3s 30ms/step - loss: 0.0506 - val_loss: 0.0216\n",
      "Epoch 39/50\n",
      "106/106 [==============================] - 3s 30ms/step - loss: 0.0496 - val_loss: 0.0231\n",
      "Epoch 40/50\n",
      "106/106 [==============================] - 3s 30ms/step - loss: 0.0492 - val_loss: 0.0197\n",
      "Epoch 41/50\n",
      "106/106 [==============================] - 3s 30ms/step - loss: 0.0484 - val_loss: 0.0208\n",
      "Epoch 42/50\n",
      "106/106 [==============================] - 3s 30ms/step - loss: 0.0478 - val_loss: 0.0192\n",
      "Epoch 43/50\n",
      "106/106 [==============================] - 3s 30ms/step - loss: 0.0474 - val_loss: 0.0180\n",
      "Epoch 44/50\n",
      "106/106 [==============================] - 3s 30ms/step - loss: 0.0462 - val_loss: 0.0181\n",
      "Epoch 45/50\n",
      "106/106 [==============================] - 3s 30ms/step - loss: 0.0460 - val_loss: 0.0202\n",
      "Epoch 46/50\n",
      "106/106 [==============================] - 3s 30ms/step - loss: 0.0457 - val_loss: 0.0208\n",
      "Epoch 47/50\n",
      "106/106 [==============================] - 3s 29ms/step - loss: 0.0450 - val_loss: 0.0225\n",
      "Epoch 48/50\n",
      "106/106 [==============================] - 3s 30ms/step - loss: 0.0444 - val_loss: 0.0197\n"
     ]
    }
   ],
   "source": [
    "# params\n",
    "batch_size = 48 # 24 hours == length of the window\n",
    "epochs = 50\n",
    "validation_split = 0.1\n",
    "es = EarlyStopping(monitor='val_loss', patience=5)\n",
    "\n",
    "\n",
    "# fitting\n",
    "history = model.fit(X_train, X_train, \n",
    "                batch_size = batch_size, \n",
    "                epochs = epochs, \n",
    "                validation_split = validation_split, \n",
    "                callbacks = [es])"
   ]
  },
  {
   "cell_type": "code",
   "execution_count": 108,
   "metadata": {},
   "outputs": [
    {
     "name": "stdout",
     "output_type": "stream",
     "text": [
      "144/144 [==============================] - 2s 8ms/step\n",
      "176/176 [==============================] - 1s 8ms/step\n"
     ]
    }
   ],
   "source": [
    "pred_x_test = model.predict(X_test)\n",
    "pred_x_train = model.predict(X_train)"
   ]
  },
  {
   "cell_type": "code",
   "execution_count": 109,
   "metadata": {},
   "outputs": [],
   "source": [
    "mse = lambda x, x_pred: np.mean(np.abs(x - x_pred)**2, axis=1)\n",
    "\n",
    "train_mae_loss = pd.DataFrame(mse(X_train, pred_x_train), columns=['Error'])\n",
    "test_mae_loss = pd.DataFrame(mse(X_test, pred_x_test), columns=['Error'])"
   ]
  },
  {
   "attachments": {},
   "cell_type": "markdown",
   "metadata": {},
   "source": [
    "### Selection Threshold\n",
    "\n",
    "threshold = mean of the loss + 2 standard devation of the loss"
   ]
  },
  {
   "cell_type": "code",
   "execution_count": 110,
   "metadata": {},
   "outputs": [],
   "source": [
    "test_mae_loss_array = test_mae_loss.to_numpy().flatten()"
   ]
  },
  {
   "cell_type": "code",
   "execution_count": 111,
   "metadata": {},
   "outputs": [
    {
     "name": "stdout",
     "output_type": "stream",
     "text": [
      "0.06595784123671382\n"
     ]
    }
   ],
   "source": [
    "threshold = np.mean(test_mae_loss)[0] + 1.75 * np.std(test_mae_loss)[0]\n",
    "\n",
    "print(threshold)"
   ]
  },
  {
   "cell_type": "code",
   "execution_count": 112,
   "metadata": {
    "scrolled": true
   },
   "outputs": [],
   "source": [
    "test_mae_loss_array = test_mae_loss.to_numpy().flatten()"
   ]
  },
  {
   "attachments": {},
   "cell_type": "markdown",
   "metadata": {},
   "source": [
    "### Dates where anomalies have been detected"
   ]
  },
  {
   "cell_type": "code",
   "execution_count": 113,
   "metadata": {},
   "outputs": [
    {
     "data": {
      "text/plain": [
       "(4597,)"
      ]
     },
     "execution_count": 113,
     "metadata": {},
     "output_type": "execute_result"
    }
   ],
   "source": [
    "y_pred = test_mae_loss_array >= threshold\n",
    "y_pred.shape"
   ]
  },
  {
   "cell_type": "code",
   "execution_count": 114,
   "metadata": {},
   "outputs": [
    {
     "data": {
      "text/plain": [
       "(4597,)"
      ]
     },
     "execution_count": 114,
     "metadata": {},
     "output_type": "execute_result"
    }
   ],
   "source": [
    "dates_test[:-(window_length-1)].shape"
   ]
  },
  {
   "cell_type": "code",
   "execution_count": 115,
   "metadata": {},
   "outputs": [],
   "source": [
    "dates_with_hours_anomalies = dates_test[:-(window_length-1)][y_pred]"
   ]
  },
  {
   "cell_type": "code",
   "execution_count": 116,
   "metadata": {},
   "outputs": [
    {
     "data": {
      "text/plain": [
       "DatetimeIndex(['2014-11-01 01:30:00', '2014-11-01 02:00:00',\n",
       "               '2014-11-01 02:30:00', '2014-11-01 03:00:00',\n",
       "               '2014-11-01 03:30:00', '2014-11-01 04:00:00',\n",
       "               '2014-11-01 04:30:00', '2014-11-01 05:00:00',\n",
       "               '2014-11-01 05:30:00', '2014-11-01 06:00:00',\n",
       "               ...\n",
       "               '2015-01-27 06:00:00', '2015-01-27 06:30:00',\n",
       "               '2015-01-27 07:00:00', '2015-01-27 07:30:00',\n",
       "               '2015-01-27 08:00:00', '2015-01-27 08:30:00',\n",
       "               '2015-01-27 09:00:00', '2015-01-27 09:30:00',\n",
       "               '2015-01-27 10:00:00', '2015-01-27 10:30:00'],\n",
       "              dtype='datetime64[ns]', name='timestamp', length=182, freq=None)"
      ]
     },
     "execution_count": 116,
     "metadata": {},
     "output_type": "execute_result"
    }
   ],
   "source": [
    "ref = dates_with_hours_anomalies\n",
    "ref = pd.to_datetime(ref, format='%Y/%m/%d')\n",
    "\n",
    "ref"
   ]
  },
  {
   "cell_type": "code",
   "execution_count": 117,
   "metadata": {},
   "outputs": [],
   "source": [
    "lstm_data = data.reset_index().copy()\n",
    "\n",
    "lstm_data['date'] = pd.to_datetime(lstm_data['timestamp']).dt.date\n",
    "\n",
    "# Modifier les valeurs dans 'pred' où la date est dans 'ref'\n",
    "lstm_data[\"pred\"] = 0 \n",
    "lstm_data.loc[lstm_data['date'].isin(ref.date), 'pred'] = 1\n",
    "\n",
    "# Supprimer la colonne 'date' si elle n'est plus nécessaire\n",
    "lstm_data = lstm_data.drop('date', axis=1)\n",
    "\n",
    "lstm_data.to_csv(\"../data/lstm_nyc_taxi.csv\")"
   ]
  },
  {
   "cell_type": "code",
   "execution_count": 118,
   "metadata": {},
   "outputs": [],
   "source": [
    "total = pd.read_csv(\"../data/total_nyc_taxi.csv\",index_col=0)\n",
    "total[\"lstm_pred\"] = lstm_data[\"pred\"]\n",
    "\n",
    "total.to_csv(\"../data/total_nyc_taxi.csv\")"
   ]
  }
 ],
 "metadata": {
  "kernelspec": {
   "display_name": "Python 3",
   "language": "python",
   "name": "python3"
  },
  "language_info": {
   "codemirror_mode": {
    "name": "ipython",
    "version": 3
   },
   "file_extension": ".py",
   "mimetype": "text/x-python",
   "name": "python",
   "nbconvert_exporter": "python",
   "pygments_lexer": "ipython3",
   "version": "3.10.9"
  }
 },
 "nbformat": 4,
 "nbformat_minor": 2
}
